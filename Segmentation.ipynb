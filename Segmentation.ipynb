{
 "cells": [
  {
   "cell_type": "markdown",
   "metadata": {},
   "source": [
    "## check NLTK"
   ]
  },
  {
   "cell_type": "code",
   "execution_count": 1,
   "metadata": {
    "collapsed": false
   },
   "outputs": [
    {
     "name": "stdout",
     "output_type": "stream",
     "text": [
      "3.2.2\n"
     ]
    }
   ],
   "source": [
    "import nltk\n",
    "print(nltk.__version__)"
   ]
  },
  {
   "cell_type": "markdown",
   "metadata": {},
   "source": [
    "## install PUNKT"
   ]
  },
  {
   "cell_type": "code",
   "execution_count": 2,
   "metadata": {
    "collapsed": false
   },
   "outputs": [
    {
     "name": "stdout",
     "output_type": "stream",
     "text": [
      "[nltk_data] Downloading package punkt to\n",
      "[nltk_data]     C:\\Users\\FaraDars\\AppData\\Roaming\\nltk_data...\n",
      "[nltk_data]   Unzipping tokenizers\\punkt.zip.\n"
     ]
    },
    {
     "data": {
      "text/plain": [
       "True"
      ]
     },
     "execution_count": 2,
     "metadata": {},
     "output_type": "execute_result"
    }
   ],
   "source": [
    "import nltk\n",
    "nltk.download(\"punkt\")"
   ]
  },
  {
   "cell_type": "markdown",
   "metadata": {},
   "source": [
    "## Sentence Tokenizer"
   ]
  },
  {
   "cell_type": "code",
   "execution_count": 3,
   "metadata": {
    "collapsed": false
   },
   "outputs": [
    {
     "data": {
      "text/plain": [
       "['Hello!', 'My name is Ehsan.', 'How are you doing today?']"
      ]
     },
     "execution_count": 3,
     "metadata": {},
     "output_type": "execute_result"
    }
   ],
   "source": [
    "from nltk.tokenize import sent_tokenize\n",
    "text=\"Hello! My name is Ehsan. How are you doing today?\"\n",
    "sent_tokenize(text)"
   ]
  },
  {
   "cell_type": "code",
   "execution_count": 4,
   "metadata": {
    "collapsed": false
   },
   "outputs": [
    {
     "data": {
      "text/plain": [
       "['سلام!', 'اسم من احسان است.', 'حالتان چطور است ؟']"
      ]
     },
     "execution_count": 4,
     "metadata": {},
     "output_type": "execute_result"
    }
   ],
   "source": [
    "matn=\"سلام! اسم من احسان است. حالتان چطور است ؟\"\n",
    "sent_tokenize(matn)"
   ]
  },
  {
   "cell_type": "markdown",
   "metadata": {},
   "source": [
    "## How to open text"
   ]
  },
  {
   "cell_type": "code",
   "execution_count": 12,
   "metadata": {
    "collapsed": false
   },
   "outputs": [
    {
     "name": "stdout",
     "output_type": "stream",
     "text": [
      "﻿Keloğlan ve Sihirli Mühür\n",
      "\n",
      "Bir gün, Keloğlan pazarda tohumlarını sattıktan sonra evine doğru yürüyormuş. O gün pazarda 3 tane altın kazanmış ve bu da onu çok mutlu etmiş; çünkü annesi artık bu üç altınla kendisine kış için kıyafet ve yiyecek alabilecekmiş.\n",
      "\n",
      "Keloğlan, birden bir grup çocuğun bir kediyi sopayla rahatsız ettiğini görmüş. Kedi çok korkmuş gözüküyormuş ve grubun elinden kurtulması mümkün değilmiş. Keloğlan hemen ortaya atılmış. Alın şu altını da onu dövmeyi bırakın, demiş. Adamlar kediyle uğraşmayı bırakmayı kabul etmiş ve Keloğlan altını çocuklara vermiş. Kedi Keloğlan’a minnettar kalmış ve yanından ayrılmamış. Bu iyiliğinin karşılığını ileride bir gün ödemeye söz vermiş. Keloğlan bir kedinin kendisine nasıl yardım edebileceğini o an için hayal edememiş ama kedinin kendisine katılmasını kabul etmiş. Böylece iki arkadaş yollarına devam etmişler.\n",
      "\n",
      "Keloğlan ve kedi birkaç kilometre yürümüşler ki birkaç kişinin sürekli havladığı için bir köpeği sopaladığını görmüşler. Keloğlan yavaşça çiftin yanına yaklaşmış ve kibarca Durun ne yapıyorsunuz, “Alın şu altını da o hayvanı dövmeyi bırakın.” demiş. Kopek kendisini kurtardığı için çocuğa minnettarmış ve o da Keloğlan’a katılmış. Böylece üç arkadaş eve doğru yollarına devam etmişler.\n",
      "\n",
      "Tam şehre yakalamışlar ki yine bir kalabalıkla karşılaşmışlar. Bu seferde oduncular bir meşe kesmiş ve içinden çıkan büyük yılanı öldürmeye çalışıyorlarmış. Yine Keloğlan dayanamamış ve “Şu bir altını alın da o yılanı serbest bırakın.” demiş. Meşe kesiciler Keloğlan’ın teklifi hakkında bir sure düşünmüşler ve sonunda yılanı öldürmemeyi kabul etmişler. Keloğlan da kalan son altınını hiç düşünmeden vermiş ve yılanı kurtardığı için çok mutlu olmuş. Yılan Keloğlan’a minnettar kalmış ve çocuğun kulağına fısıldamış “Hayatimi kurtardığın için teşekkürler ademoğlu, ben de padişah yılanının oğluyum. Sen şimdi benim sarayıma gelmelisin ki babam da sana kibarlığın için teşekkür edebilsin”.Keloğlan’ın yemek almak için parası kalmamış olmasına rağmen üç arkadaşının da hayatını kurtardığı için çok mutluymuş ve yılanın teklifini kabul etmiş.\n",
      "\n",
      "%smartmod-storyvideo-bald boy vs snakes%\n",
      "\n",
      "Ormana geldikleri zaman padişah, oğlunun hayatını kurtardığı için Keloğlan’a minnettarmış. “Dile benden ne dilersen, âdemoğlu!” demiş. Tam bu sırada padişahın oğlu şehzade yılan Keloğlan’a fısıldayıp, dilinin altındaki mührü istemesini söylemiş. “Bu mühürle bütün dileklerin gerçek olur. Tüm yapman gereken sormak sonrasında sana verilir”. Keloğlan da sihirli mührü istemiş ve padişah yılan da demiş ki “Benden en değerli varlığımı istiyorsun ancak sen oğlumun hayatini kurtardın ben de bu yüzden sana ne dilersen vereceğim.” Padişah dilinin altından sihri çıkarmış ve Keloğlan da mührü alıp cebine koymuş. Ama Keloğlan padişah yılana annesine yeni bir hayat kuracağına ve de kralın kızıyla evleneceğine söz vermiş.\n",
      "\n",
      "Ertesi gün Keloğlan annesine “Anne bana git padişahın küçük kızını iste.” demiş. Annesi de Keloğlan’a bunu nasıl yapacağını sormuş. Kedi ve köpeğin ona yardım edemeyeceğini söylemiş. İşte o zaman Keloğlan annesine tüm dileklerini gerçekleştirebilecek olan sihirli mührü anlatmış. Ertesi gün kralın kızını istemek için Keloğlan kedi ve köpekle saraya doğru yol almış\n",
      "\n",
      "Çocuk güzel prensesle evlenmek istediğini söylediğinde kral “Kızımın bu kadar fakir bir çocukla evlenmesini kabul edemem. Eğer benim kızımla evlenmek istiyorsan önce benim sarayımın yanına başka bir saray yaptırmalısın ki ben de kızımın iyi bakılacağını bileyim. Ama senin böyle bir sarayı kedi ya da köpekle yapman imkansız.” demiş.\n",
      "O gece Keloğlan mührü dilinin altında tutmuş ve kendine ait bir sarayı olmasını dilemiş. Birden gökyüzünde gözleri kör edici bir ışık belirmiş. Işık dağıldığı zaman ormanın kenarında ay ışığında parıldayan muhteşem bir saray belirmiş. Şu ana kadar gördüğü enen görkemli saray artık onun sarayıymış.\n",
      "\n",
      "Kral çocuğun gerçekten bir saray yaptığını görünce çaresizce kızını vermeye razı olmuş. Böylece Keloğlan ve prenses o gün evlenmişler. Keloğlan’ın annesi Keloğlan ve prensesle oturmaya başlamış ve Keloğlan onu kraliçeler gibi yaşatmış. Kedi ve kopek de yeni hayatlarından mutlularmış.\n",
      "\n",
      "Aylar geçmiş, Keloğlan artık herhangi bir şey dilemiyormuş çünkü çok sevdiği karısıyla zaten çok mutluymuş. Hatta sihirli mührü kendisine ait olan bir odaya koymuş ve bundan prensese hiç bahsetmemiş.\n",
      "\n",
      "Ancak bir gün, Keloğlan pazara gittiğinde boncukçu bir adam kapıyı çalmış ve prensese incik boncuk satmak istemiş. “Bunlar çok güzel boncuklar bunlardan mutlaka almalısın.” demiş. Hiç parası olmadığını söyleyen prensese, evde bulunan ne varsa saraydaki herhangi bir şeyle değişmek istediğini söylemiş. “Duyduğum kadarıyla sizin evde hiç işinize yaramayan sihirli bir mühür varmış boncukları o mühürle değişebilirim” demiş. Prenses de mührü vermiş, boncukçu adam da karanlıkta hemen ortadan kaybolmuş.\n",
      "\n",
      "Mühür gider gitmez saray ortadan kaybolmuş, prenses ve anne soğukta ortada kalmışlar. Kral sarayın ortadan kaybolduğunu görünce kızını geri almış ve Keloğlan’a eğer kendisine bakamayacaksa kızının onunla birlikte olamayacağını söylemiş. Keloğlan evine geri döndüğünde annesini yalnız bulduğuna, sarayın kaybolduğuna ve güzel karısının babasına döndüğüne çok üzülmüş. Keloğlan sihirli mührü nasıl bulacağını bilmiyormuş ve mutlu hayatinin sonsuza kadar bitip bitmediğinden de artık emin değilmiş.\n",
      "\n",
      "O sırada kedi “Ben mührü bulabilirim ama nehri geçemem.” demiş. Derken kopek ortaya atlayıp “Ben seninle nehri geçebilirim, sen sırtıma çıkarsın, sonra da birlikte mührü buluruz.” demiş. Böylece sadik kedi ve kopek sihirli mührü bulmak için yola çıkmışlar.\n",
      "Nehre geldiklerinde kedi köpeğin sırtına çıkmış ve köpek nehri geçmiş. Nehri geçtikten sonra kedi havayı koklamaya başlamış ve boncukçu adamın ormanda bıraktığı izleri köpekle birlikte takip etmeye başlamışlar.  Boncukçu adamın yaşadığı yeri bulmaları hiç zor olmamış. Boncukçu adamı bulmuşlar ve klubenin penceresinden adamın sandalyesinde derin bir uykuda olduğunu görmüşler. Kedi, “Ben fare yakalayacağım, sen de karabiber bulmalısın.” demiş.\n",
      "\n",
      "Kedi fareyi yakalamış ve fareye klubeye girmesini ve mührü satıcının dilinin altından almasını söylemiş. Köpek de farenin kuyruğuna karabiber sürmüş. Küçük fare aceleyle klubeye girmiş ve satıcının bacaklarından yukarı doğru tırmanmış. Fare, kuyruğunu salladığında karabiberler boncukçu adamın burnuna kaçmış ve adam hapşırmış. Böylece mühür havaya uçmuş ve fare küçük patileriyle mührü yakalamış. Küçük fare klubeden telaşla kaçmış ve sihirli mührü kediyle köpeğe iade etmiş. Onlar da hemen geri dönmüşler.\n",
      "\n",
      "Bir kez daha kedi kopeğin sırtına çıkmış nehri geçip eve dönmüşler. Köpek mührü sahibine vermiş ve saray tüm görkemiyle tekrar belirmiş. Sarayın geri gelmesiyle Kral kızın bir kez daha Keloğlan ile yaşamasına izin vermiş. Tüm bunlardan sonra Kral da kızının Keloğlan’a aşık olduğunu anlamış.\n",
      "\n",
      "Keloğlan güzel karısının eve dönüşü için büyük bir eğlence vermeye karar vermiş. Keloğlan ile prenses kırk gün kırk gece süren bir düğünle tekrar evlenmişler. Düğüne bütün kasaba davetliymiş.\n",
      "\n",
      "Keloğlan’ın annesi ve kral aslında kedi ve köpeğin sahiplerine sadik olduktan sonra çok şey yapabileceklerine karar vermişler. Keloğlan da gülümsemiş; çünkü asıl önemli olanın arkadaşlık olduğunu, arkadaşların birbirlerine her zaman yardım edeceğini hep biliyormuş.\n"
     ]
    }
   ],
   "source": [
    "file = open(\"C:\\\\Users\\\\FaraDars\\\\Desktop\\\\turkish.txt\",encoding=\"UTF-8\")\n",
    "text=file.read()\n",
    "print(text)"
   ]
  },
  {
   "cell_type": "markdown",
   "metadata": {},
   "source": [
    "## turkish sentence tokenizer"
   ]
  },
  {
   "cell_type": "code",
   "execution_count": 13,
   "metadata": {
    "collapsed": false
   },
   "outputs": [
    {
     "data": {
      "text/plain": [
       "['\\ufeffKeloğlan ve Sihirli Mühür\\n\\nBir gün, Keloğlan pazarda tohumlarını sattıktan sonra evine doğru yürüyormuş.',\n",
       " 'O gün pazarda 3 tane altın kazanmış ve bu da onu çok mutlu etmiş; çünkü annesi artık bu üç altınla kendisine kış için kıyafet ve yiyecek alabilecekmiş.',\n",
       " 'Keloğlan, birden bir grup çocuğun bir kediyi sopayla rahatsız ettiğini görmüş.',\n",
       " 'Kedi çok korkmuş gözüküyormuş ve grubun elinden kurtulması mümkün değilmiş.',\n",
       " 'Keloğlan hemen ortaya atılmış.',\n",
       " 'Alın şu altını da onu dövmeyi bırakın, demiş.',\n",
       " 'Adamlar kediyle uğraşmayı bırakmayı kabul etmiş ve Keloğlan altını çocuklara vermiş.',\n",
       " 'Kedi Keloğlan’a minnettar kalmış ve yanından ayrılmamış.',\n",
       " 'Bu iyiliğinin karşılığını ileride bir gün ödemeye söz vermiş.',\n",
       " 'Keloğlan bir kedinin kendisine nasıl yardım edebileceğini o an için hayal edememiş ama kedinin kendisine katılmasını kabul etmiş.',\n",
       " 'Böylece iki arkadaş yollarına devam etmişler.',\n",
       " 'Keloğlan ve kedi birkaç kilometre yürümüşler ki birkaç kişinin sürekli havladığı için bir köpeği sopaladığını görmüşler.',\n",
       " 'Keloğlan yavaşça çiftin yanına yaklaşmış ve kibarca Durun ne yapıyorsunuz, “Alın şu altını da o hayvanı dövmeyi bırakın.” demiş.',\n",
       " 'Kopek kendisini kurtardığı için çocuğa minnettarmış ve o da Keloğlan’a katılmış.',\n",
       " 'Böylece üç arkadaş eve doğru yollarına devam etmişler.',\n",
       " 'Tam şehre yakalamışlar ki yine bir kalabalıkla karşılaşmışlar.',\n",
       " 'Bu seferde oduncular bir meşe kesmiş ve içinden çıkan büyük yılanı öldürmeye çalışıyorlarmış.',\n",
       " 'Yine Keloğlan dayanamamış ve “Şu bir altını alın da o yılanı serbest bırakın.” demiş.',\n",
       " 'Meşe kesiciler Keloğlan’ın teklifi hakkında bir sure düşünmüşler ve sonunda yılanı öldürmemeyi kabul etmişler.',\n",
       " 'Keloğlan da kalan son altınını hiç düşünmeden vermiş ve yılanı kurtardığı için çok mutlu olmuş.',\n",
       " 'Yılan Keloğlan’a minnettar kalmış ve çocuğun kulağına fısıldamış “Hayatimi kurtardığın için teşekkürler ademoğlu, ben de padişah yılanının oğluyum.',\n",
       " 'Sen şimdi benim sarayıma gelmelisin ki babam da sana kibarlığın için teşekkür edebilsin”.Keloğlan’ın yemek almak için parası kalmamış olmasına rağmen üç arkadaşının da hayatını kurtardığı için çok mutluymuş ve yılanın teklifini kabul etmiş.',\n",
       " '%smartmod-storyvideo-bald boy vs snakes%\\n\\nOrmana geldikleri zaman padişah, oğlunun hayatını kurtardığı için Keloğlan’a minnettarmış.',\n",
       " '“Dile benden ne dilersen, âdemoğlu!” demiş.',\n",
       " 'Tam bu sırada padişahın oğlu şehzade yılan Keloğlan’a fısıldayıp, dilinin altındaki mührü istemesini söylemiş.',\n",
       " '“Bu mühürle bütün dileklerin gerçek olur.',\n",
       " 'Tüm yapman gereken sormak sonrasında sana verilir”.',\n",
       " 'Keloğlan da sihirli mührü istemiş ve padişah yılan da demiş ki “Benden en değerli varlığımı istiyorsun ancak sen oğlumun hayatini kurtardın ben de bu yüzden sana ne dilersen vereceğim.” Padişah dilinin altından sihri çıkarmış ve Keloğlan da mührü alıp cebine koymuş.',\n",
       " 'Ama Keloğlan padişah yılana annesine yeni bir hayat kuracağına ve de kralın kızıyla evleneceğine söz vermiş.',\n",
       " 'Ertesi gün Keloğlan annesine “Anne bana git padişahın küçük kızını iste.” demiş.',\n",
       " 'Annesi de Keloğlan’a bunu nasıl yapacağını sormuş.',\n",
       " 'Kedi ve köpeğin ona yardım edemeyeceğini söylemiş.',\n",
       " 'İşte o zaman Keloğlan annesine tüm dileklerini gerçekleştirebilecek olan sihirli mührü anlatmış.',\n",
       " 'Ertesi gün kralın kızını istemek için Keloğlan kedi ve köpekle saraya doğru yol almış\\n\\nÇocuk güzel prensesle evlenmek istediğini söylediğinde kral “Kızımın bu kadar fakir bir çocukla evlenmesini kabul edemem.',\n",
       " 'Eğer benim kızımla evlenmek istiyorsan önce benim sarayımın yanına başka bir saray yaptırmalısın ki ben de kızımın iyi bakılacağını bileyim.',\n",
       " 'Ama senin böyle bir sarayı kedi ya da köpekle yapman imkansız.” demiş.',\n",
       " 'O gece Keloğlan mührü dilinin altında tutmuş ve kendine ait bir sarayı olmasını dilemiş.',\n",
       " 'Birden gökyüzünde gözleri kör edici bir ışık belirmiş.',\n",
       " 'Işık dağıldığı zaman ormanın kenarında ay ışığında parıldayan muhteşem bir saray belirmiş.',\n",
       " 'Şu ana kadar gördüğü enen görkemli saray artık onun sarayıymış.',\n",
       " 'Kral çocuğun gerçekten bir saray yaptığını görünce çaresizce kızını vermeye razı olmuş.',\n",
       " 'Böylece Keloğlan ve prenses o gün evlenmişler.',\n",
       " 'Keloğlan’ın annesi Keloğlan ve prensesle oturmaya başlamış ve Keloğlan onu kraliçeler gibi yaşatmış.',\n",
       " 'Kedi ve kopek de yeni hayatlarından mutlularmış.',\n",
       " 'Aylar geçmiş, Keloğlan artık herhangi bir şey dilemiyormuş çünkü çok sevdiği karısıyla zaten çok mutluymuş.',\n",
       " 'Hatta sihirli mührü kendisine ait olan bir odaya koymuş ve bundan prensese hiç bahsetmemiş.',\n",
       " 'Ancak bir gün, Keloğlan pazara gittiğinde boncukçu bir adam kapıyı çalmış ve prensese incik boncuk satmak istemiş.',\n",
       " '“Bunlar çok güzel boncuklar bunlardan mutlaka almalısın.” demiş.',\n",
       " 'Hiç parası olmadığını söyleyen prensese, evde bulunan ne varsa saraydaki herhangi bir şeyle değişmek istediğini söylemiş.',\n",
       " '“Duyduğum kadarıyla sizin evde hiç işinize yaramayan sihirli bir mühür varmış boncukları o mühürle değişebilirim” demiş.',\n",
       " 'Prenses de mührü vermiş, boncukçu adam da karanlıkta hemen ortadan kaybolmuş.',\n",
       " 'Mühür gider gitmez saray ortadan kaybolmuş, prenses ve anne soğukta ortada kalmışlar.',\n",
       " 'Kral sarayın ortadan kaybolduğunu görünce kızını geri almış ve Keloğlan’a eğer kendisine bakamayacaksa kızının onunla birlikte olamayacağını söylemiş.',\n",
       " 'Keloğlan evine geri döndüğünde annesini yalnız bulduğuna, sarayın kaybolduğuna ve güzel karısının babasına döndüğüne çok üzülmüş.',\n",
       " 'Keloğlan sihirli mührü nasıl bulacağını bilmiyormuş ve mutlu hayatinin sonsuza kadar bitip bitmediğinden de artık emin değilmiş.',\n",
       " 'O sırada kedi “Ben mührü bulabilirim ama nehri geçemem.” demiş.',\n",
       " 'Derken kopek ortaya atlayıp “Ben seninle nehri geçebilirim, sen sırtıma çıkarsın, sonra da birlikte mührü buluruz.” demiş.',\n",
       " 'Böylece sadik kedi ve kopek sihirli mührü bulmak için yola çıkmışlar.',\n",
       " 'Nehre geldiklerinde kedi köpeğin sırtına çıkmış ve köpek nehri geçmiş.',\n",
       " 'Nehri geçtikten sonra kedi havayı koklamaya başlamış ve boncukçu adamın ormanda bıraktığı izleri köpekle birlikte takip etmeye başlamışlar.',\n",
       " 'Boncukçu adamın yaşadığı yeri bulmaları hiç zor olmamış.',\n",
       " 'Boncukçu adamı bulmuşlar ve klubenin penceresinden adamın sandalyesinde derin bir uykuda olduğunu görmüşler.',\n",
       " 'Kedi, “Ben fare yakalayacağım, sen de karabiber bulmalısın.” demiş.',\n",
       " 'Kedi fareyi yakalamış ve fareye klubeye girmesini ve mührü satıcının dilinin altından almasını söylemiş.',\n",
       " 'Köpek de farenin kuyruğuna karabiber sürmüş.',\n",
       " 'Küçük fare aceleyle klubeye girmiş ve satıcının bacaklarından yukarı doğru tırmanmış.',\n",
       " 'Fare, kuyruğunu salladığında karabiberler boncukçu adamın burnuna kaçmış ve adam hapşırmış.',\n",
       " 'Böylece mühür havaya uçmuş ve fare küçük patileriyle mührü yakalamış.',\n",
       " 'Küçük fare klubeden telaşla kaçmış ve sihirli mührü kediyle köpeğe iade etmiş.',\n",
       " 'Onlar da hemen geri dönmüşler.',\n",
       " 'Bir kez daha kedi kopeğin sırtına çıkmış nehri geçip eve dönmüşler.',\n",
       " 'Köpek mührü sahibine vermiş ve saray tüm görkemiyle tekrar belirmiş.',\n",
       " 'Sarayın geri gelmesiyle Kral kızın bir kez daha Keloğlan ile yaşamasına izin vermiş.',\n",
       " 'Tüm bunlardan sonra Kral da kızının Keloğlan’a aşık olduğunu anlamış.',\n",
       " 'Keloğlan güzel karısının eve dönüşü için büyük bir eğlence vermeye karar vermiş.',\n",
       " 'Keloğlan ile prenses kırk gün kırk gece süren bir düğünle tekrar evlenmişler.',\n",
       " 'Düğüne bütün kasaba davetliymiş.',\n",
       " 'Keloğlan’ın annesi ve kral aslında kedi ve köpeğin sahiplerine sadik olduktan sonra çok şey yapabileceklerine karar vermişler.',\n",
       " 'Keloğlan da gülümsemiş; çünkü asıl önemli olanın arkadaşlık olduğunu, arkadaşların birbirlerine her zaman yardım edeceğini hep biliyormuş.']"
      ]
     },
     "execution_count": 13,
     "metadata": {},
     "output_type": "execute_result"
    }
   ],
   "source": [
    "import nltk.data\n",
    "tokenizer=nltk.data.load(\"tokenizers/punkt/turkish.pickle\")\n",
    "tokenizer.tokenize(text)"
   ]
  },
  {
   "cell_type": "code",
   "execution_count": 14,
   "metadata": {
    "collapsed": false
   },
   "outputs": [
    {
     "data": {
      "text/plain": [
       "79"
      ]
     },
     "execution_count": 14,
     "metadata": {},
     "output_type": "execute_result"
    }
   ],
   "source": [
    "len(tokenizer.tokenize(text))"
   ]
  }
 ],
 "metadata": {
  "kernelspec": {
   "display_name": "Python 3",
   "language": "python",
   "name": "python3"
  },
  "language_info": {
   "codemirror_mode": {
    "name": "ipython",
    "version": 3
   },
   "file_extension": ".py",
   "mimetype": "text/x-python",
   "name": "python",
   "nbconvert_exporter": "python",
   "pygments_lexer": "ipython3",
   "version": "3.6.0"
  }
 },
 "nbformat": 4,
 "nbformat_minor": 2
}
