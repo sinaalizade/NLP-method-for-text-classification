{
 "cells": [
  {
   "cell_type": "code",
   "execution_count": 1,
   "metadata": {
    "collapsed": true
   },
   "outputs": [],
   "source": [
    "from nltk.corpus import wordnet\n",
    "\n",
    "def mostsimilar(my_list):\n",
    "    max_sim=0\n",
    "    most_similar_words=tuple()\n",
    "    for i in range (0,len(my_list)-1):\n",
    "        for syn1 in wordnet.synsets(my_list[i]):\n",
    "            for j in range(i+1,len(my_list)):\n",
    "                for syn2 in wordnet.synsets(my_list[j]):\n",
    "                    x=syn1.wup_similarity(syn2)\n",
    "                    if(x):\n",
    "                        if(x>max_sim):\n",
    "                            most_similar_words=my_list[i],my_list[j],x\n",
    "                            max_sim=x\n",
    "    return most_similar_words"
   ]
  },
  {
   "cell_type": "code",
   "execution_count": 2,
   "metadata": {
    "collapsed": false
   },
   "outputs": [
    {
     "data": {
      "text/plain": [
       "('fruit', 'apple', 0.9)"
      ]
     },
     "execution_count": 2,
     "metadata": {},
     "output_type": "execute_result"
    }
   ],
   "source": [
    "mostsimilar([\"car\",\"cat\",\"fruit\",\"apple\"])"
   ]
  }
 ],
 "metadata": {
  "kernelspec": {
   "display_name": "Python 3",
   "language": "python",
   "name": "python3"
  },
  "language_info": {
   "codemirror_mode": {
    "name": "ipython",
    "version": 3
   },
   "file_extension": ".py",
   "mimetype": "text/x-python",
   "name": "python",
   "nbconvert_exporter": "python",
   "pygments_lexer": "ipython3",
   "version": "3.6.0"
  }
 },
 "nbformat": 4,
 "nbformat_minor": 2
}
